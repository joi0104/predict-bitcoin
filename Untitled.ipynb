{
 "cells": [
  {
   "cell_type": "code",
   "execution_count": null,
   "metadata": {
    "scrolled": true
   },
   "outputs": [
    {
     "name": "stderr",
     "output_type": "stream",
     "text": [
      "ERROR:fbprophet:Importing plotly failed. Interactive plots will not work.\n",
      "INFO:fbprophet:Making 71 forecasts with cutoffs between 2017-08-04 00:00:00 and 2019-07-05 00:00:00\n",
      "WARNING:fbprophet:Optimization terminated abnormally. Falling back to Newton.\n",
      "WARNING:fbprophet:Optimization terminated abnormally. Falling back to Newton.\n",
      "WARNING:fbprophet:Optimization terminated abnormally. Falling back to Newton.\n"
     ]
    }
   ],
   "source": [
    "from bs4 import BeautifulSoup\n",
    "import matplotlib.pyplot as plt\n",
    "import pandas as pd\n",
    "import urllib.parse\n",
    "import fbprophet\n",
    "from fbprophet import Prophet\n",
    "from fbprophet.diagnostics import cross_validation, performance_metrics\n",
    "from fbprophet.plot import plot_cross_validation_metric\n",
    "import numpy as np\n",
    "\n",
    "def mean_absolute_percentage_error(y_true, y_pred): \n",
    "    y_true, y_pred = np.array(y_true), np.array(y_pred)\n",
    "    return np.mean(np.abs((y_true - y_pred) / y_true)) * 100\n",
    "\n",
    "with urllib.request.urlopen(\"https://coinmarketcap.com/ko/currencies/bitcoin/historical-data/?start=20160725&end=20190725\") as response:\n",
    "    html = response.read()\n",
    "    soup = BeautifulSoup(html, 'html.parser')\n",
    "\n",
    "table = soup.find('table',{'class':'table'})\n",
    "df = pd.read_html(str(table))\n",
    "bitcoin = df[0]\n",
    "df = pd.DataFrame({'ds':bitcoin['날짜'],'y':bitcoin['종가**']})\n",
    "\n",
    "m = Prophet(yearly_seasonality=True,daily_seasonality=True).fit(df)\n",
    "future = m.make_future_dataframe(periods=100)\n",
    "forecast =m.predict(future)\n",
    "m.plot(forecast)\n",
    "df_cv = cross_validation(m, horizon='20 days')\n",
    "df_cv.head(5)\n",
    "df_p = performance_metrics(df_cv)\n",
    "df_p.head(5)\n",
    "\n",
    "\n",
    "\n"
   ]
  },
  {
   "cell_type": "code",
   "execution_count": null,
   "metadata": {},
   "outputs": [],
   "source": []
  }
 ],
 "metadata": {
  "kernelspec": {
   "display_name": "Python 3",
   "language": "python",
   "name": "python3"
  },
  "language_info": {
   "codemirror_mode": {
    "name": "ipython",
    "version": 3
   },
   "file_extension": ".py",
   "mimetype": "text/x-python",
   "name": "python",
   "nbconvert_exporter": "python",
   "pygments_lexer": "ipython3",
   "version": "3.7.3"
  }
 },
 "nbformat": 4,
 "nbformat_minor": 2
}
